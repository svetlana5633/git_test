{
  "nbformat": 4,
  "nbformat_minor": 0,
  "metadata": {
    "colab": {
      "name": "PythonExercises_Student.ipynb",
      "provenance": [],
      "toc_visible": true
    },
    "kernelspec": {
      "name": "python3",
      "display_name": "Python 3"
    },
    "pycharm": {
      "stem_cell": {
        "cell_type": "raw",
        "source": [],
        "metadata": {
          "collapsed": false
        }
      }
    }
  },
  "cells": [
    {
      "cell_type": "markdown",
      "metadata": {
        "id": "5HjX3fhuMv9x",
        "colab_type": "text"
      },
      "source": [
        "# Exercises"
      ]
    },
    {
      "cell_type": "markdown",
      "metadata": {
        "id": "M78pzJmmM2wh",
        "colab_type": "text"
      },
      "source": [
        "## 1. Say my name"
      ]
    },
    {
      "cell_type": "markdown",
      "metadata": {
        "id": "DRVRJVX1-7f-",
        "colab_type": "text"
      },
      "source": [
        "Build a function that take a string and print each char separated by a `\\n`"
      ]
    },
    {
      "cell_type": "markdown",
      "metadata": {
        "id": "K4vDtx9v_Kzi",
        "colab_type": "text"
      },
      "source": [
        "## 2. Find odd number"
      ]
    },
    {
      "cell_type": "markdown",
      "metadata": {
        "id": "YgMhgd3ZpOSu",
        "colab_type": "text"
      },
      "source": [
        "Build a function that returns True is the number is an odd number, return False otherwise."
      ]
    },
    {
      "cell_type": "markdown",
      "metadata": {
        "id": "79uO5OGuAON2",
        "colab_type": "text"
      },
      "source": [
        "## 3. You shall not pass"
      ]
    },
    {
      "cell_type": "markdown",
      "metadata": {
        "id": "GINKocNNASgx",
        "colab_type": "text"
      },
      "source": [
        "Write a function that take a `name`, `lastname`, `age` and `genre` of a user. Then welcome him or her if the user is an adult with a different message depending of the gender. Ask gently the kids to go home."
      ]
    },
    {
      "cell_type": "markdown",
      "metadata": {
        "id": "Gl3obC9_OZ0C",
        "colab_type": "text"
      },
      "source": [
        "## 4. Reapeat after me"
      ]
    },
    {
      "cell_type": "markdown",
      "metadata": {
        "id": "umrOrdmiOcm3",
        "colab_type": "text"
      },
      "source": [
        "Write a function that will repeat a sentence `N` times (parameter)"
      ]
    },
    {
      "cell_type": "markdown",
      "metadata": {
        "id": "ny0v4uqBPdeY",
        "colab_type": "text"
      },
      "source": [
        "## 5. Circle or Square ?"
      ]
    },
    {
      "cell_type": "markdown",
      "metadata": {
        "id": "vEKh6jq7PlQY",
        "colab_type": "text"
      },
      "source": [
        "Write a function that compare the surface of a circle, knowing his radius, and the surface of a square, knowing his side in `mm`, and printout the biggest shape and it's surface value."
      ]
    },
    {
      "cell_type": "markdown",
      "metadata": {
        "id": "WnuLE4koTtDh",
        "colab_type": "text"
      },
      "source": [
        "## 6. Where is my ten ?"
      ]
    },
    {
      "cell_type": "markdown",
      "metadata": {
        "id": "I36WzRrlTyHw",
        "colab_type": "text"
      },
      "source": [
        "Write a function that take a list of number and returns a list of only the number below or equal to ten."
      ]
    },
    {
      "cell_type": "markdown",
      "metadata": {
        "id": "PtqVb_8kXTma",
        "colab_type": "text"
      },
      "source": [
        "## 7. List of divisor"
      ]
    },
    {
      "cell_type": "markdown",
      "metadata": {
        "id": "kunZumbZXUcE",
        "colab_type": "text"
      },
      "source": [
        "Write a function that returns a list of divisor for a given number"
      ]
    },
    {
      "cell_type": "markdown",
      "metadata": {
        "id": "wpdiZCXmZf00",
        "colab_type": "text"
      },
      "source": [
        "## 8. Overlaping"
      ]
    },
    {
      "cell_type": "markdown",
      "metadata": {
        "id": "lWrmYLOzZil2",
        "colab_type": "text"
      },
      "source": [
        "Write a program that returns a list that contains only the elements that are common between the lists (without duplicates). Make sure your program works on two lists of different sizes."
      ]
    },
    {
      "cell_type": "markdown",
      "metadata": {
        "id": "wW1PqkpuaQvW",
        "colab_type": "text"
      },
      "source": [
        "## 9. Palindrome"
      ]
    },
    {
      "cell_type": "markdown",
      "metadata": {
        "id": "tCYYSsQZaTbg",
        "colab_type": "text"
      },
      "source": [
        "Check if a string is a palindrome"
      ]
    },
    {
      "cell_type": "markdown",
      "metadata": {
        "id": "5K3peNoXp7bx",
        "colab_type": "text"
      },
      "source": [
        "## List Combine"
      ]
    },
    {
      "cell_type": "markdown",
      "metadata": {
        "id": "1p8Tyl0rqCwi",
        "colab_type": "text"
      },
      "source": [
        "Given an array of size N, generate and display all possible combinations of k elements."
      ]
    },
    {
      "cell_type": "markdown",
      "metadata": {
        "id": "wYMCI0xag3zD",
        "colab_type": "text"
      },
      "source": [
        "## 10. FizBuzz"
      ]
    },
    {
      "cell_type": "markdown",
      "metadata": {
        "id": "3RFWQnyGg8lg",
        "colab_type": "text"
      },
      "source": [
        "Write a function that take a number. If it's a mutiple of 3 print `Fiz`, if it's a mutilple of 5 print `Buzz`. If it's a mutilple of 3 and 5 `FizBuzz`."
      ]
    },
    {
      "cell_type": "markdown",
      "metadata": {
        "id": "vyyYJEX0iTBL",
        "colab_type": "text"
      },
      "source": [
        "## 11. Overtime"
      ]
    },
    {
      "cell_type": "markdown",
      "metadata": {
        "id": "54R0tyWRiVke",
        "colab_type": "text"
      },
      "source": [
        "Write a function that calculate the salary of a person with this rules:\n",
        "- normal rate up to the 39th hour\n",
        "- +50% between 40th to the 44th\n",
        "- +75% between 45th to the 49th\n",
        "- +100% below"
      ]
    },
    {
      "cell_type": "markdown",
      "metadata": {
        "id": "J1aZJjclnC1v",
        "colab_type": "text"
      },
      "source": [
        "## 12. Average mark"
      ]
    },
    {
      "cell_type": "markdown",
      "metadata": {
        "id": "qA8Yl6hEnO0M",
        "colab_type": "text"
      },
      "source": [
        "Write a function that calculate the average from a list of number."
      ]
    },
    {
      "cell_type": "markdown",
      "metadata": {
        "id": "EAqItIYLouFU",
        "colab_type": "text"
      },
      "source": [
        "## 13. Square list"
      ]
    },
    {
      "cell_type": "markdown",
      "metadata": {
        "id": "M1AiRCCeozGZ",
        "colab_type": "text"
      },
      "source": [
        "Take a list of number and return a list of their square as float."
      ]
    },
    {
      "cell_type": "markdown",
      "metadata": {
        "id": "3XKxjJv6MpPi",
        "colab_type": "text"
      },
      "source": [
        "## 14. Nuclear reactor"
      ]
    },
    {
      "cell_type": "markdown",
      "metadata": {
        "id": "FOYfW7rZMuDX",
        "colab_type": "text"
      },
      "source": [
        "We have 2 nuclear reactors. If their both on, we are dead, if there are both off, we are fired. Return `False` if we are in trouble, `True` otherwise.\n"
      ]
    },
    {
      "cell_type": "markdown",
      "metadata": {
        "id": "-0SqXdVIN1M2",
        "colab_type": "text"
      },
      "source": [
        "## 15. Half a string"
      ]
    },
    {
      "cell_type": "markdown",
      "metadata": {
        "id": "KIz3_mlJN5KA",
        "colab_type": "text"
      },
      "source": [
        "Given a string of even length, return the first half.\n",
        "  "
      ]
    },
    {
      "cell_type": "markdown",
      "metadata": {
        "id": "ttuNwtJ4qz9L",
        "colab_type": "text"
      },
      "source": [
        "and now the other half."
      ]
    },
    {
      "cell_type": "markdown",
      "metadata": {
        "id": "KNENmr7VTUQ0",
        "colab_type": "text"
      },
      "source": [
        "## 16. Fibonacci"
      ]
    },
    {
      "cell_type": "markdown",
      "metadata": {
        "id": "j6ny584hTaSx",
        "colab_type": "text"
      },
      "source": [
        "The the Fibonacci sequence up to a certain number."
      ]
    },
    {
      "cell_type": "markdown",
      "metadata": {
        "id": "aYuu32Ha6WZ2",
        "colab_type": "text"
      },
      "source": [
        "## 17. Letters frequency"
      ]
    },
    {
      "cell_type": "markdown",
      "metadata": {
        "id": "Bw3NXnqc6ZBH",
        "colab_type": "text"
      },
      "source": [
        "Find the frequency of a letters in a string."
      ]
    },
    {
      "cell_type": "markdown",
      "metadata": {
        "id": "_1KIHRIy7dU5",
        "colab_type": "text",
        "pycharm": {
          "name": "#%% md\n"
        }
      },
      "source": [
        "Sorted by key ? (on print)"
      ]
    }
  ]
}